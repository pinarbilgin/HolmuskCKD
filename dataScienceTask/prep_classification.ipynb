{
 "cells": [
  {
   "cell_type": "code",
   "execution_count": 6,
   "id": "b0564f5f",
   "metadata": {},
   "outputs": [],
   "source": [
    "import os\n",
    "from os.path import abspath\n",
    "\n",
    "import sklearn\n",
    "from sklearn.model_selection import train_test_split\n",
    "from sklearn.ensemble import RandomForestClassifier\n",
    "from sklearn.metrics import confusion_matrix, classification_report, accuracy_score\n",
    "import pandas as pd\n",
    "import numpy as np\n",
    "import matplotlib.pyplot as plt\n",
    "import seaborn as sns\n",
    "from mlxtend.plotting import plot_confusion_matrix"
   ]
  },
  {
   "cell_type": "code",
   "execution_count": 7,
   "id": "b64443f5",
   "metadata": {},
   "outputs": [],
   "source": [
    "#loading all the data\n",
    "\n",
    "#patient demographic\n",
    "demo = pd.read_csv(abspath(\"../dataScienceTask/T_demo.csv\"))\n",
    "#medications\n",
    "meds = pd.read_csv(abspath(\"../dataScienceTask/T_meds.csv\"))\n",
    "#CDK stage progress\n",
    "stage = pd.read_csv(abspath(\"../dataScienceTask/T_stage.csv\"))\n",
    "\n",
    "#CDK clinical markers\n",
    "creatinine = pd.read_csv(abspath(\"../dataScienceTask/T_creatinine.csv\"))\n",
    "DBP = pd.read_csv(abspath(\"../dataScienceTask/T_DBP.csv\"))\n",
    "SBP = pd.read_csv(abspath(\"../dataScienceTask/T_SBP.csv\"))\n",
    "HGB = pd.read_csv(abspath(\"../dataScienceTask/T_HGB.csv\"))\n",
    "glucose = pd.read_csv(abspath(\"../dataScienceTask/T_glucose.csv\"))\n",
    "ldl = pd.read_csv(abspath(\"../dataScienceTask/T_ldl.csv\"))"
   ]
  },
  {
   "cell_type": "code",
   "execution_count": 61,
   "id": "12d545a9",
   "metadata": {},
   "outputs": [],
   "source": [
    "# For this type of data with many explanatory variables, Random Forest Algorithm will give us a good accuracy rate.\n",
    "# However, Logistic Regression could also provide us with a good probability output and it's more suited for larger \n",
    "# datasets with more noise.\n",
    "\n",
    "#Preparing data \n",
    "\n",
    "#All data must be serialized and grouped by patient id\n",
    "#age is already a numeric series\n",
    "race = pd.get_dummies(demo.race).drop(\"Unknown\", axis=1)\n",
    "gender = pd.get_dummies(demo.gender)[\"Female\"].rename({\"Female\":\"gender\"}) #-> booelan for Female gender\n",
    "\n",
    "\n",
    "#clinical markers -> get difference between first and last value of marker for each patient\n",
    "cre_diff = pd.Series({i:(data.iloc[-1]-data.iloc[0]).value for i, data in creatinine.groupby(\"id\")},\n",
    "                       name=\"creatinine\")\n",
    "dbp_diff = pd.Series({i:(data.iloc[-1]-data.iloc[0]).value for i, data in DBP.groupby(\"id\")}, name=\"dbp\")\n",
    "sbp_diff = pd.Series({i:(data.iloc[-1]-data.iloc[0]).value for i, data in SBP.groupby(\"id\")}, name=\"sbp\")\n",
    "hgb_diff = pd.Series({i:(data.iloc[-1]-data.iloc[0]).value for i, data in HGB.groupby(\"id\")}, name=\"hgb\")\n",
    "glu_diff = pd.Series({i:(data.iloc[-1]-data.iloc[0]).value for i, data in glucose.groupby(\"id\")}, name=\"glucose\")\n",
    "ldl_diff = pd.Series({i:(data.iloc[-1]-data.iloc[0]).value for i, data in ldl.groupby(\"id\")}, name=\"ldl\")\n",
    "\n",
    "#merge clinical markers\n",
    "markers = pd.concat([cre_diff,dbp_diff,sbp_diff,hgb_diff,glu_diff,ldl_diff], axis=1)\n",
    "markers\n",
    "\n",
    "#medication -> categorize by id and drugs taken(boolean)\n",
    "meds_series = pd.DataFrame()\n",
    "for drug_name, val in meds.groupby(\"drug\"):\n",
    "    #empty arr\n",
    "    drug_arr = np.zeros(demo.id.shape, dtype=bool)\n",
    "    drug_arr[val.id.unique()]=True\n",
    "    \n",
    "    meds_series[drug_name]=drug_arr\n",
    "#meds_series\n",
    "\n",
    "# MERGE all data including label (stage)\n",
    "all_data = pd.concat([demo.age,race,gender,markers,meds_series, stage.drop(\"id\",axis=1)],axis=1)\n",
    "\n",
    "#all_data #-> (300,34)\n",
    "\n",
    "#seperate true_label and false_label from stage progression\n",
    "true_label = all_data[all_data.Stage_Progress] #(100,34)\n",
    "false_label = all_data[~all_data.Stage_Progress] #(200,34)\n",
    "\n"
   ]
  },
  {
   "cell_type": "code",
   "execution_count": 62,
   "id": "503a431d",
   "metadata": {},
   "outputs": [
    {
     "name": "stdout",
     "output_type": "stream",
     "text": [
      "(270, 34)\n",
      "(30, 34)\n",
      "(270, 34)\n",
      "(30, 34)\n"
     ]
    }
   ],
   "source": [
    "# Split data to train and test sets\n",
    "# 90:10 train-test split with balanced test set, 15 patients each for true and false,\n",
    "# class_weight = balanced\n",
    "\n",
    "true_train_bal, true_test_bal = train_test_split(true_label, test_size=15, random_state=42)\n",
    "false_train_bal, false_test_bal = train_test_split(false_label, test_size=15, random_state=42)\n",
    "\n",
    "train_set_bal = pd.concat([true_train_bal,false_train_bal])\n",
    "test_set_bal = pd.concat([true_test_bal,false_test_bal])\n",
    "\n",
    "print(train_set_bal.shape)\n",
    "print(test_set_bal.shape)\n",
    "\n",
    "# 90:10 train-test split with unbalanced test set, \n",
    "# class_weight = total observations / (number of classes * observations in class)\n",
    "\n",
    "true_train_ub, true_test_ub = train_test_split(true_label, test_size=0.1, random_state=42)\n",
    "false_train_ub, false_test_ub = train_test_split(false_label, test_size=0.1, random_state=42)\n",
    "\n",
    "train_set_ub = pd.concat([true_train_ub,false_train_ub])\n",
    "test_set_ub = pd.concat([true_test_ub,false_test_ub])\n",
    "\n",
    "print(train_set_ub.shape)\n",
    "print(test_set_ub.shape)\n",
    "\n",
    "\n",
    "\n"
   ]
  },
  {
   "cell_type": "code",
   "execution_count": 63,
   "id": "edb3cea1",
   "metadata": {},
   "outputs": [
    {
     "data": {
      "text/plain": [
       "RandomForestClassifier(class_weight='balanced', n_estimators=1000,\n",
       "                       oob_score=True)"
      ]
     },
     "execution_count": 63,
     "metadata": {},
     "output_type": "execute_result"
    }
   ],
   "source": [
    "# Training the model BALANCED\n",
    "rf_model_balanced = RandomForestClassifier(bootstrap=True, n_estimators=1000, oob_score=True, class_weight=\"balanced\")\n",
    "rf_model_balanced.fit(train_set_bal.drop(\"Stage_Progress\", axis=1), train_set_bal[\"Stage_Progress\"].values.ravel())\n"
   ]
  },
  {
   "cell_type": "code",
   "execution_count": 64,
   "id": "c3f1a4bc",
   "metadata": {},
   "outputs": [
    {
     "data": {
      "text/plain": [
       "RandomForestClassifier(class_weight={0: 0.75, 1: 1.5}, n_estimators=1000,\n",
       "                       oob_score=True)"
      ]
     },
     "execution_count": 64,
     "metadata": {},
     "output_type": "execute_result"
    }
   ],
   "source": [
    "# Training the model UNBALANCED\n",
    "rf_model_unbalanced = RandomForestClassifier(bootstrap=True, n_estimators=1000, oob_score=True, class_weight={0:0.75, 1:1.5})\n",
    "rf_model_unbalanced.fit(train_set_ub.drop(\"Stage_Progress\", axis=1), train_set_ub[\"Stage_Progress\"].values.ravel())"
   ]
  },
  {
   "cell_type": "code",
   "execution_count": 65,
   "id": "2be2f299",
   "metadata": {},
   "outputs": [
    {
     "data": {
      "text/plain": [
       "0.7962962962962963"
      ]
     },
     "execution_count": 65,
     "metadata": {},
     "output_type": "execute_result"
    }
   ],
   "source": [
    "#balanced\n",
    "rf_model_balanced.oob_score_"
   ]
  },
  {
   "cell_type": "code",
   "execution_count": 66,
   "id": "ac9c1f9a",
   "metadata": {},
   "outputs": [
    {
     "data": {
      "text/plain": [
       "0.7962962962962963"
      ]
     },
     "execution_count": 66,
     "metadata": {},
     "output_type": "execute_result"
    }
   ],
   "source": [
    "#unbalanced\n",
    "rf_model_unbalanced.oob_score_"
   ]
  },
  {
   "cell_type": "code",
   "execution_count": 67,
   "id": "7f2ee694",
   "metadata": {},
   "outputs": [
    {
     "data": {
      "text/plain": [
       "0.7666666666666667"
      ]
     },
     "execution_count": 67,
     "metadata": {},
     "output_type": "execute_result"
    }
   ],
   "source": [
    "#balanced\n",
    "rf_model_balanced.score(test_set_bal.drop(\"Stage_Progress\",axis=1), test_set_bal[\"Stage_Progress\"].values.ravel())\n"
   ]
  },
  {
   "cell_type": "code",
   "execution_count": 68,
   "id": "86ebc55c",
   "metadata": {},
   "outputs": [
    {
     "data": {
      "text/plain": [
       "0.8"
      ]
     },
     "execution_count": 68,
     "metadata": {},
     "output_type": "execute_result"
    }
   ],
   "source": [
    "#unbalanced\n",
    "rf_model_unbalanced.score(test_set_ub.drop(\"Stage_Progress\",axis=1), test_set_ub[\"Stage_Progress\"].values.ravel())"
   ]
  },
  {
   "cell_type": "code",
   "execution_count": 69,
   "id": "fe47e15c",
   "metadata": {},
   "outputs": [],
   "source": [
    "prediction_balanced = rf_model_balanced.predict(test_set_bal.drop(\"Stage_Progress\",axis=1))\n",
    "prediction_unbalanced = rf_model_unbalanced.predict(test_set_ub.drop(\"Stage_Progress\",axis=1))"
   ]
  },
  {
   "cell_type": "code",
   "execution_count": 70,
   "id": "d29fcbcf",
   "metadata": {
    "scrolled": true
   },
   "outputs": [
    {
     "data": {
      "image/png": "[encoded data removed]",
      "text/plain": [
       "<Figure size 432x288 with 1 Axes>"
      ]
     },
     "metadata": {},
     "output_type": "display_data"
    }
   ],
   "source": [
    "cm_balanced = confusion_matrix(test_set_bal[\"Stage_Progress\"], prediction_balanced)\n",
    "plot_confusion_matrix(cm_balanced)\n",
    "plt.show()"
   ]
  },
  {
   "cell_type": "code",
   "execution_count": 71,
   "id": "9735e281",
   "metadata": {},
   "outputs": [
    {
     "data": {
      "image/png": "[encoded data removed]",
      "text/plain": [
       "<Figure size 432x288 with 1 Axes>"
      ]
     },
     "metadata": {},
     "output_type": "display_data"
    }
   ],
   "source": [
    "cm_unbalanced = confusion_matrix(test_set_ub[\"Stage_Progress\"], prediction_unbalanced)\n",
    "plot_confusion_matrix(cm_unbalanced)\n",
    "plt.show()"
   ]
  },
  {
   "cell_type": "code",
   "execution_count": 72,
   "id": "cfefcfca",
   "metadata": {},
   "outputs": [
    {
     "data": {
      "text/plain": [
       "0.7666666666666667"
      ]
     },
     "execution_count": 72,
     "metadata": {},
     "output_type": "execute_result"
    }
   ],
   "source": [
    "#balanced\n",
    "accuracy_score(test_set_bal[\"Stage_Progress\"], prediction_balanced)\n",
    "\n"
   ]
  },
  {
   "cell_type": "code",
   "execution_count": 73,
   "id": "6e04673f",
   "metadata": {},
   "outputs": [
    {
     "data": {
      "text/plain": [
       "0.8"
      ]
     },
     "execution_count": 73,
     "metadata": {},
     "output_type": "execute_result"
    }
   ],
   "source": [
    "#unbalanced\n",
    "accuracy_score(test_set_ub[\"Stage_Progress\"], prediction_unbalanced)\n"
   ]
  },
  {
   "cell_type": "code",
   "execution_count": 74,
   "id": "cdf28919",
   "metadata": {},
   "outputs": [
    {
     "name": "stdout",
     "output_type": "stream",
     "text": [
      "Balanced Classification\n",
      "               precision    recall  f1-score   support\n",
      "\n",
      "       False       0.70      0.93      0.80        15\n",
      "        True       0.90      0.60      0.72        15\n",
      "\n",
      "    accuracy                           0.77        30\n",
      "   macro avg       0.80      0.77      0.76        30\n",
      "weighted avg       0.80      0.77      0.76        30\n",
      "\n",
      "Unbalanced Classification\n",
      "               precision    recall  f1-score   support\n",
      "\n",
      "       False       0.79      0.95      0.86        20\n",
      "        True       0.83      0.50      0.62        10\n",
      "\n",
      "    accuracy                           0.80        30\n",
      "   macro avg       0.81      0.72      0.74        30\n",
      "weighted avg       0.81      0.80      0.78        30\n",
      "\n"
     ]
    }
   ],
   "source": [
    "print(\"Balanced Classification\\n\",classification_report(test_set_bal[\"Stage_Progress\"],prediction_balanced))\n",
    "\n",
    "print(\"Unbalanced Classification\\n\",classification_report(test_set_ub[\"Stage_Progress\"],prediction_unbalanced))"
   ]
  },
  {
   "cell_type": "code",
   "execution_count": null,
   "id": "efd4ffe7",
   "metadata": {},
   "outputs": [],
   "source": []
  }
 ],
 "metadata": {
  "kernelspec": {
   "display_name": "Python 3 (ipykernel)",
   "language": "python",
   "name": "python3"
  },
  "language_info": {
   "codemirror_mode": {
    "name": "ipython",
    "version": 3
   },
   "file_extension": ".py",
   "mimetype": "text/x-python",
   "name": "python",
   "nbconvert_exporter": "python",
   "pygments_lexer": "ipython3",
   "version": "3.9.10"
  }
 },
 "nbformat": 4,
 "nbformat_minor": 5
}
